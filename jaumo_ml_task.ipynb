{
 "cells": [
  {
   "cell_type": "code",
   "execution_count": 1,
   "metadata": {},
   "outputs": [
    {
     "name": "stdout",
     "output_type": "stream",
     "text": [
      "Populating the interactive namespace from numpy and matplotlib\n"
     ]
    }
   ],
   "source": [
    "%load_ext autoreload\n",
    "%autoreload 2\n",
    "%pylab inline\n",
    "\n",
    "from collections import defaultdict, OrderedDict, Counter\n",
    "from copy import deepcopy\n",
    "import time\n",
    "import numpy as np\n",
    "from pprint import pprint\n",
    "import matplotlib.pyplot as plt\n",
    "import matplotlib.image as mpimg\n",
    "from scipy.stats import poisson\n",
    "from datetime import date, datetime\n",
    "import uuid\n",
    "import os\n",
    "import csv\n",
    "import ujson\n",
    "import requests\n",
    "import io\n",
    "from pprint import pprint\n",
    "from dateutil import parser\n",
    "import pandas as pd\n",
    "\n",
    "from tputils import *"
   ]
  },
  {
   "cell_type": "markdown",
   "metadata": {},
   "source": [
    "# Data"
   ]
  },
  {
   "cell_type": "code",
   "execution_count": 2,
   "metadata": {},
   "outputs": [],
   "source": [
    "# raw_data = csv_load(\"in/data.csv\", delimiter=\",\")\n",
    "\n",
    "# header = raw_data[0]\n",
    "# raw_data = raw_data[1:]\n",
    "\n",
    "# col_id = {col_name: i_col for i_col, col_name in enumerate(header)}\n",
    "\n",
    "# types = [int, int, float, float, float, str]\n",
    "# raw_data = [[types[i_col](element) for i_col, element in enumerate(row)] for row in raw_data]\n",
    "\n",
    "# print(header)\n",
    "# pprint(raw_data[:5])\n",
    "# print(\"nr_rows\", len(raw_data))"
   ]
  },
  {
   "cell_type": "code",
   "execution_count": 3,
   "metadata": {},
   "outputs": [
    {
     "name": "stdout",
     "output_type": "stream",
     "text": [
      "Header: ['label', 'f1', 'f2', 'f3', 'c1']\n"
     ]
    },
    {
     "data": {
      "text/html": [
       "<div>\n",
       "<style>\n",
       "    .dataframe thead tr:only-child th {\n",
       "        text-align: right;\n",
       "    }\n",
       "\n",
       "    .dataframe thead th {\n",
       "        text-align: left;\n",
       "    }\n",
       "\n",
       "    .dataframe tbody tr th {\n",
       "        vertical-align: top;\n",
       "    }\n",
       "</style>\n",
       "<table border=\"1\" class=\"dataframe\">\n",
       "  <thead>\n",
       "    <tr style=\"text-align: right;\">\n",
       "      <th></th>\n",
       "      <th>label</th>\n",
       "      <th>f1</th>\n",
       "      <th>f2</th>\n",
       "      <th>f3</th>\n",
       "      <th>c1</th>\n",
       "    </tr>\n",
       "    <tr>\n",
       "      <th>id</th>\n",
       "      <th></th>\n",
       "      <th></th>\n",
       "      <th></th>\n",
       "      <th></th>\n",
       "      <th></th>\n",
       "    </tr>\n",
       "  </thead>\n",
       "  <tbody>\n",
       "    <tr>\n",
       "      <th>299340</th>\n",
       "      <td>1</td>\n",
       "      <td>2.114135</td>\n",
       "      <td>53.279725</td>\n",
       "      <td>0.715891</td>\n",
       "      <td>f</td>\n",
       "    </tr>\n",
       "    <tr>\n",
       "      <th>222579</th>\n",
       "      <td>1</td>\n",
       "      <td>2.750729</td>\n",
       "      <td>-68.723837</td>\n",
       "      <td>0.783546</td>\n",
       "      <td>m</td>\n",
       "    </tr>\n",
       "    <tr>\n",
       "      <th>152620</th>\n",
       "      <td>-1</td>\n",
       "      <td>-0.398702</td>\n",
       "      <td>37.517511</td>\n",
       "      <td>0.057790</td>\n",
       "      <td>m</td>\n",
       "    </tr>\n",
       "    <tr>\n",
       "      <th>201201</th>\n",
       "      <td>-1</td>\n",
       "      <td>6.107160</td>\n",
       "      <td>-178.689183</td>\n",
       "      <td>-0.825741</td>\n",
       "      <td>m</td>\n",
       "    </tr>\n",
       "    <tr>\n",
       "      <th>268691</th>\n",
       "      <td>1</td>\n",
       "      <td>6.485862</td>\n",
       "      <td>-157.894766</td>\n",
       "      <td>0.740175</td>\n",
       "      <td>m</td>\n",
       "    </tr>\n",
       "  </tbody>\n",
       "</table>\n",
       "</div>"
      ],
      "text/plain": [
       "        label        f1          f2        f3 c1\n",
       "id                                              \n",
       "299340      1  2.114135   53.279725  0.715891  f\n",
       "222579      1  2.750729  -68.723837  0.783546  m\n",
       "152620     -1 -0.398702   37.517511  0.057790  m\n",
       "201201     -1  6.107160 -178.689183 -0.825741  m\n",
       "268691      1  6.485862 -157.894766  0.740175  m"
      ]
     },
     "execution_count": 3,
     "metadata": {},
     "output_type": "execute_result"
    }
   ],
   "source": [
    "df_data = pd.read_csv(\"in/data.csv\")\n",
    "df_data.set_index(\"id\", inplace=True)\n",
    "header = list(df_data.columns.values) \n",
    "print(\"Header:\", header)\n",
    "# df_routes[\"Postaveno\"] = pd.to_datetime(df_routes[\"Postaveno\"], format=\"%d.%m.%Y\")\n",
    "df_data.head()"
   ]
  },
  {
   "cell_type": "markdown",
   "metadata": {},
   "source": [
    "# Data analysis"
   ]
  },
  {
   "cell_type": "code",
   "execution_count": null,
   "metadata": {},
   "outputs": [
    {
     "data": {
      "text/html": [
       "<div>\n",
       "<style>\n",
       "    .dataframe thead tr:only-child th {\n",
       "        text-align: right;\n",
       "    }\n",
       "\n",
       "    .dataframe thead th {\n",
       "        text-align: left;\n",
       "    }\n",
       "\n",
       "    .dataframe tbody tr th {\n",
       "        vertical-align: top;\n",
       "    }\n",
       "</style>\n",
       "<table border=\"1\" class=\"dataframe\">\n",
       "  <thead>\n",
       "    <tr style=\"text-align: right;\">\n",
       "      <th></th>\n",
       "      <th>label</th>\n",
       "      <th>f1</th>\n",
       "      <th>f2</th>\n",
       "      <th>f3</th>\n",
       "    </tr>\n",
       "  </thead>\n",
       "  <tbody>\n",
       "    <tr>\n",
       "      <th>count</th>\n",
       "      <td>100000.000000</td>\n",
       "      <td>100000.000000</td>\n",
       "      <td>100000.000000</td>\n",
       "      <td>100000.000000</td>\n",
       "    </tr>\n",
       "    <tr>\n",
       "      <th>mean</th>\n",
       "      <td>-0.334280</td>\n",
       "      <td>0.996455</td>\n",
       "      <td>-50.012167</td>\n",
       "      <td>-0.000438</td>\n",
       "    </tr>\n",
       "    <tr>\n",
       "      <th>std</th>\n",
       "      <td>0.942479</td>\n",
       "      <td>3.464272</td>\n",
       "      <td>86.627939</td>\n",
       "      <td>0.578297</td>\n",
       "    </tr>\n",
       "    <tr>\n",
       "      <th>min</th>\n",
       "      <td>-1.000000</td>\n",
       "      <td>-4.999927</td>\n",
       "      <td>-199.999115</td>\n",
       "      <td>-0.999982</td>\n",
       "    </tr>\n",
       "    <tr>\n",
       "      <th>25%</th>\n",
       "      <td>-1.000000</td>\n",
       "      <td>-2.009106</td>\n",
       "      <td>-125.137753</td>\n",
       "      <td>-0.502098</td>\n",
       "    </tr>\n",
       "    <tr>\n",
       "      <th>50%</th>\n",
       "      <td>-1.000000</td>\n",
       "      <td>1.000574</td>\n",
       "      <td>-49.738901</td>\n",
       "      <td>0.000180</td>\n",
       "    </tr>\n",
       "    <tr>\n",
       "      <th>75%</th>\n",
       "      <td>1.000000</td>\n",
       "      <td>3.993015</td>\n",
       "      <td>24.900275</td>\n",
       "      <td>0.500053</td>\n",
       "    </tr>\n",
       "    <tr>\n",
       "      <th>max</th>\n",
       "      <td>1.000000</td>\n",
       "      <td>6.999791</td>\n",
       "      <td>99.999832</td>\n",
       "      <td>0.999995</td>\n",
       "    </tr>\n",
       "  </tbody>\n",
       "</table>\n",
       "</div>"
      ],
      "text/plain": [
       "               label             f1             f2             f3\n",
       "count  100000.000000  100000.000000  100000.000000  100000.000000\n",
       "mean       -0.334280       0.996455     -50.012167      -0.000438\n",
       "std         0.942479       3.464272      86.627939       0.578297\n",
       "min        -1.000000      -4.999927    -199.999115      -0.999982\n",
       "25%        -1.000000      -2.009106    -125.137753      -0.502098\n",
       "50%        -1.000000       1.000574     -49.738901       0.000180\n",
       "75%         1.000000       3.993015      24.900275       0.500053\n",
       "max         1.000000       6.999791      99.999832       0.999995"
      ]
     },
     "execution_count": 4,
     "metadata": {},
     "output_type": "execute_result"
    }
   ],
   "source": [
    "df_data.describe()"
   ]
  },
  {
   "cell_type": "code",
   "execution_count": null,
   "metadata": {},
   "outputs": [],
   "source": [
    "for col in header:\n",
    "    ax = df_data[col].plot(kind='bar', title=col, legend=None, rot=0)\n",
    "    break\n",
    "#     ax.set_xlabel(\"Návrh obtížnosti\")\n",
    "#     ax.set_ylabel(\"Počet hodnocení\")\n",
    "#     ax.yaxis.set_major_locator(MaxNLocator(integer=True))\n",
    "# plt.savefig(outdir_wall_suggest + \"Navrhy_obtiznosti_{}.png\".format(idroute))"
   ]
  },
  {
   "cell_type": "code",
   "execution_count": 9,
   "metadata": {},
   "outputs": [
    {
     "data": {
      "text/plain": [
       "['label', 'f1', 'f2', 'f3', 'c1']"
      ]
     },
     "execution_count": 9,
     "metadata": {},
     "output_type": "execute_result"
    }
   ],
   "source": []
  }
 ],
 "metadata": {
  "kernelspec": {
   "display_name": "Python 3",
   "language": "python",
   "name": "python3"
  },
  "language_info": {
   "codemirror_mode": {
    "name": "ipython",
    "version": 3
   },
   "file_extension": ".py",
   "mimetype": "text/x-python",
   "name": "python",
   "nbconvert_exporter": "python",
   "pygments_lexer": "ipython3",
   "version": "3.5.2"
  }
 },
 "nbformat": 4,
 "nbformat_minor": 2
}

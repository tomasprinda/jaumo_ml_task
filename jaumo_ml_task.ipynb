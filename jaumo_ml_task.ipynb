{
 "cells": [
  {
   "cell_type": "code",
   "execution_count": 1,
   "metadata": {},
   "outputs": [
    {
     "name": "stdout",
     "output_type": "stream",
     "text": [
      "Populating the interactive namespace from numpy and matplotlib\n"
     ]
    }
   ],
   "source": [
    "%load_ext autoreload\n",
    "%autoreload 2\n",
    "%pylab inline\n",
    "\n",
    "import numpy as np\n",
    "from pprint import pprint\n",
    "from scipy.stats import poisson\n",
    "from pprint import pprint\n",
    "import pandas as pd\n",
    "\n",
    "from tputils import *"
   ]
  },
  {
   "cell_type": "markdown",
   "metadata": {},
   "source": [
    "# Data"
   ]
  },
  {
   "cell_type": "code",
   "execution_count": 2,
   "metadata": {},
   "outputs": [
    {
     "name": "stdout",
     "output_type": "stream",
     "text": [
      "Header: ['id', 'label', 'f1', 'f2', 'f3', 'c1']\n"
     ]
    },
    {
     "data": {
      "text/html": [
       "<div>\n",
       "<style scoped>\n",
       "    .dataframe tbody tr th:only-of-type {\n",
       "        vertical-align: middle;\n",
       "    }\n",
       "\n",
       "    .dataframe tbody tr th {\n",
       "        vertical-align: top;\n",
       "    }\n",
       "\n",
       "    .dataframe thead th {\n",
       "        text-align: right;\n",
       "    }\n",
       "</style>\n",
       "<table border=\"1\" class=\"dataframe\">\n",
       "  <thead>\n",
       "    <tr style=\"text-align: right;\">\n",
       "      <th></th>\n",
       "      <th>id</th>\n",
       "      <th>label</th>\n",
       "      <th>f1</th>\n",
       "      <th>f2</th>\n",
       "      <th>f3</th>\n",
       "      <th>c1</th>\n",
       "    </tr>\n",
       "  </thead>\n",
       "  <tbody>\n",
       "    <tr>\n",
       "      <th>0</th>\n",
       "      <td>299340</td>\n",
       "      <td>1</td>\n",
       "      <td>2.114135</td>\n",
       "      <td>53.279725</td>\n",
       "      <td>0.715891</td>\n",
       "      <td>f</td>\n",
       "    </tr>\n",
       "    <tr>\n",
       "      <th>1</th>\n",
       "      <td>222579</td>\n",
       "      <td>1</td>\n",
       "      <td>2.750729</td>\n",
       "      <td>-68.723837</td>\n",
       "      <td>0.783546</td>\n",
       "      <td>m</td>\n",
       "    </tr>\n",
       "    <tr>\n",
       "      <th>2</th>\n",
       "      <td>152620</td>\n",
       "      <td>-1</td>\n",
       "      <td>-0.398702</td>\n",
       "      <td>37.517511</td>\n",
       "      <td>0.057790</td>\n",
       "      <td>m</td>\n",
       "    </tr>\n",
       "    <tr>\n",
       "      <th>3</th>\n",
       "      <td>201201</td>\n",
       "      <td>-1</td>\n",
       "      <td>6.107160</td>\n",
       "      <td>-178.689183</td>\n",
       "      <td>-0.825741</td>\n",
       "      <td>m</td>\n",
       "    </tr>\n",
       "    <tr>\n",
       "      <th>4</th>\n",
       "      <td>268691</td>\n",
       "      <td>1</td>\n",
       "      <td>6.485862</td>\n",
       "      <td>-157.894766</td>\n",
       "      <td>0.740175</td>\n",
       "      <td>m</td>\n",
       "    </tr>\n",
       "  </tbody>\n",
       "</table>\n",
       "</div>"
      ],
      "text/plain": [
       "       id  label        f1          f2        f3 c1\n",
       "0  299340      1  2.114135   53.279725  0.715891  f\n",
       "1  222579      1  2.750729  -68.723837  0.783546  m\n",
       "2  152620     -1 -0.398702   37.517511  0.057790  m\n",
       "3  201201     -1  6.107160 -178.689183 -0.825741  m\n",
       "4  268691      1  6.485862 -157.894766  0.740175  m"
      ]
     },
     "execution_count": 2,
     "metadata": {},
     "output_type": "execute_result"
    }
   ],
   "source": [
    "df_data = pd.read_csv(\"in/data.csv\")\n",
    "header = list(df_data.columns.values) \n",
    "col2id = {col_name: i_col for i_col, col_name in enumerate(header)}\n",
    "print(\"Header:\", header)\n",
    "df_data.head()"
   ]
  },
  {
   "cell_type": "markdown",
   "metadata": {},
   "source": [
    "# Data analysis"
   ]
  },
  {
   "cell_type": "code",
   "execution_count": 3,
   "metadata": {},
   "outputs": [
    {
     "data": {
      "text/html": [
       "<div>\n",
       "<style scoped>\n",
       "    .dataframe tbody tr th:only-of-type {\n",
       "        vertical-align: middle;\n",
       "    }\n",
       "\n",
       "    .dataframe tbody tr th {\n",
       "        vertical-align: top;\n",
       "    }\n",
       "\n",
       "    .dataframe thead th {\n",
       "        text-align: right;\n",
       "    }\n",
       "</style>\n",
       "<table border=\"1\" class=\"dataframe\">\n",
       "  <thead>\n",
       "    <tr style=\"text-align: right;\">\n",
       "      <th></th>\n",
       "      <th>id</th>\n",
       "      <th>label</th>\n",
       "      <th>f1</th>\n",
       "      <th>f2</th>\n",
       "      <th>f3</th>\n",
       "    </tr>\n",
       "  </thead>\n",
       "  <tbody>\n",
       "    <tr>\n",
       "      <th>count</th>\n",
       "      <td>100000.000000</td>\n",
       "      <td>100000.000000</td>\n",
       "      <td>100000.000000</td>\n",
       "      <td>100000.000000</td>\n",
       "      <td>100000.000000</td>\n",
       "    </tr>\n",
       "    <tr>\n",
       "      <th>mean</th>\n",
       "      <td>199894.018910</td>\n",
       "      <td>-0.334280</td>\n",
       "      <td>0.996455</td>\n",
       "      <td>-50.012167</td>\n",
       "      <td>-0.000438</td>\n",
       "    </tr>\n",
       "    <tr>\n",
       "      <th>std</th>\n",
       "      <td>57669.106106</td>\n",
       "      <td>0.942479</td>\n",
       "      <td>3.464272</td>\n",
       "      <td>86.627939</td>\n",
       "      <td>0.578297</td>\n",
       "    </tr>\n",
       "    <tr>\n",
       "      <th>min</th>\n",
       "      <td>100000.000000</td>\n",
       "      <td>-1.000000</td>\n",
       "      <td>-4.999927</td>\n",
       "      <td>-199.999115</td>\n",
       "      <td>-0.999982</td>\n",
       "    </tr>\n",
       "    <tr>\n",
       "      <th>25%</th>\n",
       "      <td>150168.000000</td>\n",
       "      <td>-1.000000</td>\n",
       "      <td>-2.009106</td>\n",
       "      <td>-125.137753</td>\n",
       "      <td>-0.502098</td>\n",
       "    </tr>\n",
       "    <tr>\n",
       "      <th>50%</th>\n",
       "      <td>199790.000000</td>\n",
       "      <td>-1.000000</td>\n",
       "      <td>1.000574</td>\n",
       "      <td>-49.738901</td>\n",
       "      <td>0.000180</td>\n",
       "    </tr>\n",
       "    <tr>\n",
       "      <th>75%</th>\n",
       "      <td>249790.250000</td>\n",
       "      <td>1.000000</td>\n",
       "      <td>3.993015</td>\n",
       "      <td>24.900275</td>\n",
       "      <td>0.500053</td>\n",
       "    </tr>\n",
       "    <tr>\n",
       "      <th>max</th>\n",
       "      <td>299994.000000</td>\n",
       "      <td>1.000000</td>\n",
       "      <td>6.999791</td>\n",
       "      <td>99.999832</td>\n",
       "      <td>0.999995</td>\n",
       "    </tr>\n",
       "  </tbody>\n",
       "</table>\n",
       "</div>"
      ],
      "text/plain": [
       "                  id          label             f1             f2  \\\n",
       "count  100000.000000  100000.000000  100000.000000  100000.000000   \n",
       "mean   199894.018910      -0.334280       0.996455     -50.012167   \n",
       "std     57669.106106       0.942479       3.464272      86.627939   \n",
       "min    100000.000000      -1.000000      -4.999927    -199.999115   \n",
       "25%    150168.000000      -1.000000      -2.009106    -125.137753   \n",
       "50%    199790.000000      -1.000000       1.000574     -49.738901   \n",
       "75%    249790.250000       1.000000       3.993015      24.900275   \n",
       "max    299994.000000       1.000000       6.999791      99.999832   \n",
       "\n",
       "                  f3  \n",
       "count  100000.000000  \n",
       "mean       -0.000438  \n",
       "std         0.578297  \n",
       "min        -0.999982  \n",
       "25%        -0.502098  \n",
       "50%         0.000180  \n",
       "75%         0.500053  \n",
       "max         0.999995  "
      ]
     },
     "execution_count": 3,
     "metadata": {},
     "output_type": "execute_result"
    }
   ],
   "source": [
    "df_data.describe()"
   ]
  },
  {
   "cell_type": "markdown",
   "metadata": {},
   "source": [
    "## Histograms"
   ]
  },
  {
   "cell_type": "code",
   "execution_count": 4,
   "metadata": {},
   "outputs": [
    {
     "data": {
      "image/png": "[encoded data removed]",
      "text/plain": [
       "<matplotlib.figure.Figure at 0x7ff4264f8a20>"
      ]
     },
     "metadata": {},
     "output_type": "display_data"
    },
    {
     "data": {
      "image/png": "[encoded data removed]",
      "text/plain": [
       "<matplotlib.figure.Figure at 0x7ff424431208>"
      ]
     },
     "metadata": {},
     "output_type": "display_data"
    },
    {
     "data": {
      "image/png": "[encoded data removed]",
      "text/plain": [
       "<matplotlib.figure.Figure at 0x7ff42440e908>"
      ]
     },
     "metadata": {},
     "output_type": "display_data"
    },
    {
     "data": {
      "image/png": "[encoded data removed]",
      "text/plain": [
       "<matplotlib.figure.Figure at 0x7ff424369b70>"
      ]
     },
     "metadata": {},
     "output_type": "display_data"
    }
   ],
   "source": [
    "for col in header[1:-1]:\n",
    "    ax = df_data[[col]].plot.hist(title=col + \" histogram\")\n",
    "    ax.set_xlabel(\"Value\")"
   ]
  },
  {
   "cell_type": "code",
   "execution_count": 5,
   "metadata": {},
   "outputs": [
    {
     "data": {
      "text/plain": [
       "Text(0.5,1,'c1 hisotgram')"
      ]
     },
     "execution_count": 5,
     "metadata": {},
     "output_type": "execute_result"
    },
    {
     "data": {
      "image/png": "[encoded data removed]",
      "text/plain": [
       "<matplotlib.figure.Figure at 0x7ff426509048>"
      ]
     },
     "metadata": {},
     "output_type": "display_data"
    }
   ],
   "source": [
    "col = \"c1\"\n",
    "ax = df_data[col].value_counts().plot(kind='bar')\n",
    "ax.set_xlabel(\"Value\")\n",
    "ax.set_ylabel(\"Frequency\")\n",
    "ax.set_title(col + \" hisotgram\")"
   ]
  },
  {
   "cell_type": "markdown",
   "metadata": {},
   "source": [
    "All data looks that are generated from uniform random distribution. \n",
    "\n",
    "Label distribution is quite balanced, it is not neccessary to address the problem of imbalance label distribution."
   ]
  },
  {
   "cell_type": "markdown",
   "metadata": {},
   "source": [
    "## Correlations"
   ]
  },
  {
   "cell_type": "code",
   "execution_count": 6,
   "metadata": {},
   "outputs": [
    {
     "name": "stdout",
     "output_type": "stream",
     "text": [
      "['label', 'label', 1.0]\n",
      "['label', 'f1', -0.000440789597929063]\n",
      "['label', 'f2', -0.001474579240498082]\n",
      "['label', 'f3', 0.10601135408160517]\n",
      "['f1', 'f1', 1.0]\n",
      "['f1', 'f2', -0.0012814298800642207]\n",
      "['f1', 'f3', 0.000938620210926895]\n",
      "['f2', 'f2', 1.0]\n",
      "['f2', 'f3', -0.001987876476201404]\n",
      "['f3', 'f3', 1.0]\n"
     ]
    }
   ],
   "source": [
    "from scipy.stats.stats import pearsonr\n",
    "\n",
    "header_cor = header[1:-1]\n",
    "for i_col1, col1 in enumerate(header_cor):\n",
    "    for i_col2, col2 in enumerate(header_cor):\n",
    "        if i_col2 < i_col1:\n",
    "            continue\n",
    "            \n",
    "        corr = pearsonr(df_data[col1].values, df_data[col2].values)[0]\n",
    "        print([col1, col2, corr])"
   ]
  },
  {
   "cell_type": "markdown",
   "metadata": {},
   "source": [
    "Very little correlation between features.\n",
    "\n",
    "Some correlation between 'label', 'f3' suggests 'f3' will be a feature with the highest feature importace. 'f1', 'f2' has almost no correlation with label. \n",
    "\n",
    "If more time I would calculate correlation between 'c1' (would need to transform - one hot encoded)"
   ]
  },
  {
   "cell_type": "markdown",
   "metadata": {},
   "source": [
    "# Prepare training data"
   ]
  },
  {
   "cell_type": "code",
   "execution_count": 7,
   "metadata": {},
   "outputs": [
    {
     "name": "stdout",
     "output_type": "stream",
     "text": [
      "ids:\n",
      "[299340, 222579, 152620]\n",
      "\n",
      "Features: \n",
      "['c1_f', 'c1_m', 'c1_n', 'f1', 'f2', 'f3']\n",
      "array([[ 1.00000000e+00,  0.00000000e+00,  0.00000000e+00,\n",
      "         2.11413542e+00,  5.32797246e+01,  7.15891235e-01],\n",
      "       [ 0.00000000e+00,  1.00000000e+00,  0.00000000e+00,\n",
      "         2.75072936e+00, -6.87238366e+01,  7.83546002e-01],\n",
      "       [ 0.00000000e+00,  1.00000000e+00,  0.00000000e+00,\n",
      "        -3.98701774e-01,  3.75175114e+01,  5.77898395e-02]])\n",
      "\n",
      "Labels:\n",
      "array([ 1,  1, -1])\n"
     ]
    },
    {
     "data": {
      "text/html": [
       "<div>\n",
       "<style scoped>\n",
       "    .dataframe tbody tr th:only-of-type {\n",
       "        vertical-align: middle;\n",
       "    }\n",
       "\n",
       "    .dataframe tbody tr th {\n",
       "        vertical-align: top;\n",
       "    }\n",
       "\n",
       "    .dataframe thead th {\n",
       "        text-align: right;\n",
       "    }\n",
       "</style>\n",
       "<table border=\"1\" class=\"dataframe\">\n",
       "  <thead>\n",
       "    <tr style=\"text-align: right;\">\n",
       "      <th></th>\n",
       "      <th>id</th>\n",
       "      <th>label</th>\n",
       "      <th>f1</th>\n",
       "      <th>f2</th>\n",
       "      <th>f3</th>\n",
       "      <th>c1</th>\n",
       "    </tr>\n",
       "  </thead>\n",
       "  <tbody>\n",
       "    <tr>\n",
       "      <th>0</th>\n",
       "      <td>299340</td>\n",
       "      <td>1</td>\n",
       "      <td>2.114135</td>\n",
       "      <td>53.279725</td>\n",
       "      <td>0.715891</td>\n",
       "      <td>f</td>\n",
       "    </tr>\n",
       "    <tr>\n",
       "      <th>1</th>\n",
       "      <td>222579</td>\n",
       "      <td>1</td>\n",
       "      <td>2.750729</td>\n",
       "      <td>-68.723837</td>\n",
       "      <td>0.783546</td>\n",
       "      <td>m</td>\n",
       "    </tr>\n",
       "    <tr>\n",
       "      <th>2</th>\n",
       "      <td>152620</td>\n",
       "      <td>-1</td>\n",
       "      <td>-0.398702</td>\n",
       "      <td>37.517511</td>\n",
       "      <td>0.057790</td>\n",
       "      <td>m</td>\n",
       "    </tr>\n",
       "  </tbody>\n",
       "</table>\n",
       "</div>"
      ],
      "text/plain": [
       "       id  label        f1         f2        f3 c1\n",
       "0  299340      1  2.114135  53.279725  0.715891  f\n",
       "1  222579      1  2.750729 -68.723837  0.783546  m\n",
       "2  152620     -1 -0.398702  37.517511  0.057790  m"
      ]
     },
     "execution_count": 7,
     "metadata": {},
     "output_type": "execute_result"
    }
   ],
   "source": [
    "def get_examples(df, col2id):\n",
    "    ids, xs, ys = [], [], []\n",
    "    df_values = df_data.values\n",
    "    \n",
    "    features_0 = get_features(df_values[0], col2id)\n",
    "    feature_names = list(sorted(features_0.keys()))\n",
    "    \n",
    "    for row in df_values:\n",
    "        \n",
    "        id_ = row[col2id[\"id\"]]\n",
    "        ids.append(id_)\n",
    "        \n",
    "        x_dict = get_features(row, col2id)\n",
    "        x = features_dict2list(x_dict, feature_names)\n",
    "        xs.append(x)\n",
    "        \n",
    "        y = row[col2id[\"label\"]]\n",
    "        ys.append(y)\n",
    "    \n",
    "    return ids, np.array(xs), np.array(ys), feature_names\n",
    "        \n",
    "def get_features(row, col2id):\n",
    "    features = {\n",
    "        \"f1\": row[col2id[\"f1\"]],\n",
    "        \"f2\": row[col2id[\"f2\"]],\n",
    "        \"f3\": row[col2id[\"f3\"]],\n",
    "        \"c1_m\": float(row[col2id[\"c1\"]] == \"m\"),\n",
    "        \"c1_f\": float(row[col2id[\"c1\"]] == \"f\"),\n",
    "        \"c1_n\": float(row[col2id[\"c1\"]] == \"n\"),\n",
    "    }\n",
    "    \n",
    "    return features\n",
    "\n",
    "def features_dict2list(feature_dict, feature_names):\n",
    "    return [feature_dict[name] for name in feature_names]\n",
    "\n",
    "\n",
    "ids, xs, ys, feature_names = get_examples(df_data, col2id)\n",
    "\n",
    "print(\"ids:\")\n",
    "pprint(ids[:3])\n",
    "\n",
    "print(\"\\nFeatures: \")\n",
    "pprint(feature_names)\n",
    "pprint(xs[:3])\n",
    "\n",
    "print(\"\\nLabels:\")\n",
    "pprint(ys[:3])\n",
    "\n",
    "# To check if correct\n",
    "df_data[:3]"
   ]
  },
  {
   "cell_type": "code",
   "execution_count": 8,
   "metadata": {},
   "outputs": [
    {
     "name": "stdout",
     "output_type": "stream",
     "text": [
      "x_train.shape (80000, 6)\n",
      "x_dev.shape (20000, 6)\n",
      "y_train.shape (80000,)\n",
      "y_dev.shape (20000,)\n"
     ]
    }
   ],
   "source": [
    "from sklearn.model_selection import train_test_split\n",
    "ids_train, ids_dev, x_train, x_dev, y_train, y_dev = train_test_split(ids, xs, ys, test_size=0.2, random_state=42)\n",
    "\n",
    "print(\"x_train.shape\", x_train.shape)\n",
    "print(\"x_dev.shape\", x_dev.shape)\n",
    "\n",
    "print(\"y_train.shape\", y_train.shape)\n",
    "print(\"y_dev.shape\", y_dev.shape)"
   ]
  },
  {
   "cell_type": "markdown",
   "metadata": {},
   "source": [
    "# Train the model"
   ]
  },
  {
   "cell_type": "code",
   "execution_count": 12,
   "metadata": {},
   "outputs": [],
   "source": [
    "from sklearn.ensemble import RandomForestClassifier\n",
    "model = RandomForestClassifier(max_depth=5, n_estimators=5)\n",
    "\n",
    "model.fit(x_train, y_train)\n",
    "y_train_pred = model.predict(x_train)\n",
    "y_dev_pred = model.predict(x_dev)"
   ]
  },
  {
   "cell_type": "markdown",
   "metadata": {},
   "source": [
    "# Evaluate"
   ]
  },
  {
   "cell_type": "code",
   "execution_count": 13,
   "metadata": {},
   "outputs": [
    {
     "name": "stdout",
     "output_type": "stream",
     "text": [
      "Trainset\n",
      "f1 = 0.99987\n",
      "\n",
      "Devset\n",
      "f1 = 0.99992\n",
      "\n"
     ]
    },
    {
     "data": {
      "image/png": "[encoded data removed]",
      "text/plain": [
       "<matplotlib.figure.Figure at 0x7ff42423b6a0>"
      ]
     },
     "metadata": {},
     "output_type": "display_data"
    },
    {
     "data": {
      "image/png": "[encoded data removed]",
      "text/plain": [
       "<matplotlib.figure.Figure at 0x7ff42423b978>"
      ]
     },
     "metadata": {},
     "output_type": "display_data"
    }
   ],
   "source": [
    "from sklearn.metrics import f1_score\n",
    "from sklearn.metrics import confusion_matrix\n",
    "from tputils import plot_confusion_matrix\n",
    "\n",
    "def eval_dataset(y_true, y_pred, classes, title):\n",
    "    print(title)\n",
    "    \n",
    "    f1 = f1_score(y_true, y_pred)\n",
    "    print(\"f1 = {:.5f}\".format(f1))\n",
    "\n",
    "    conf_matrix = confusion_matrix(y_true, y_pred, labels=classes)\n",
    "    plot_confusion_matrix(conf_matrix, classes,  normalize=False,title=title)\n",
    "    \n",
    "    print()\n",
    "\n",
    "\n",
    "eval_dataset(y_train, y_train_pred, model.classes_, \"Trainset\")\n",
    "eval_dataset(y_dev, y_dev_pred, model.classes_, \"Devset\")"
   ]
  },
  {
   "cell_type": "markdown",
   "metadata": {},
   "source": [
    "### Feature importances"
   ]
  },
  {
   "cell_type": "code",
   "execution_count": 14,
   "metadata": {},
   "outputs": [
    {
     "data": {
      "text/plain": [
       "[('f1', 0.6147368074528029),\n",
       " ('c1_n', 0.2535140653641143),\n",
       " ('c1_m', 0.06270994731844562),\n",
       " ('c1_f', 0.04324739739248114),\n",
       " ('f3', 0.025138843732238646),\n",
       " ('f2', 0.0006529387399172701)]"
      ]
     },
     "execution_count": 14,
     "metadata": {},
     "output_type": "execute_result"
    }
   ],
   "source": [
    "list(sorted(zip(feature_names, model.feature_importances_), key=lambda x: x[1], reverse=True))"
   ]
  },
  {
   "cell_type": "code",
   "execution_count": null,
   "metadata": {},
   "outputs": [],
   "source": []
  },
  {
   "cell_type": "code",
   "execution_count": null,
   "metadata": {},
   "outputs": [],
   "source": []
  }
 ],
 "metadata": {
  "kernelspec": {
   "display_name": "Python 3",
   "language": "python",
   "name": "python3"
  },
  "language_info": {
   "codemirror_mode": {
    "name": "ipython",
    "version": 3
   },
   "file_extension": ".py",
   "mimetype": "text/x-python",
   "name": "python",
   "nbconvert_exporter": "python",
   "pygments_lexer": "ipython3",
   "version": "3.6.4"
  }
 },
 "nbformat": 4,
 "nbformat_minor": 2
}
